{
 "cells": [
  {
   "cell_type": "code",
   "execution_count": 2,
   "id": "9745c7db",
   "metadata": {},
   "outputs": [],
   "source": [
    "import pyautogui as AU\n",
    "import time\n",
    "import json\n",
    "import os\n",
    "import pyperclip \n"
   ]
  },
  {
   "cell_type": "code",
   "execution_count": 3,
   "id": "5c1c27d8",
   "metadata": {},
   "outputs": [],
   "source": [
    "ruta_json = r\"C:\\Users\\Lenovo\\Desktop\\REPOSITORIOS\\codigoBarra\\barras\\inventario.json\"\n",
    "\n",
    "# Leer el archivo JSON\n",
    "with open(ruta_json, \"r\", encoding=\"utf-8\") as f:\n",
    "    inventario = json.load(f)\n",
    "\n",
    "# Extraer el primer código de barras (puedes cambiar [0] por otro índice)\n",
    "codigo_barras = inventario[1][\"codigo_barras\"]"
   ]
  },
  {
   "cell_type": "code",
   "execution_count": 4,
   "id": "d5a83965",
   "metadata": {},
   "outputs": [
    {
     "name": "stdout",
     "output_type": "stream",
     "text": [
      "Escribiendo: 048526007301\n"
     ]
    },
    {
     "ename": "KeyboardInterrupt",
     "evalue": "",
     "output_type": "error",
     "traceback": [
      "\u001b[31m---------------------------------------------------------------------------\u001b[39m",
      "\u001b[31mKeyboardInterrupt\u001b[39m                         Traceback (most recent call last)",
      "\u001b[36mCell\u001b[39m\u001b[36m \u001b[39m\u001b[32mIn[4]\u001b[39m\u001b[32m, line 42\u001b[39m\n\u001b[32m     34\u001b[39m \u001b[38;5;28;01mwith\u001b[39;00m \u001b[38;5;28mopen\u001b[39m(nombre_archivo, \u001b[33m\"\u001b[39m\u001b[33mw\u001b[39m\u001b[33m\"\u001b[39m, encoding=\u001b[33m\"\u001b[39m\u001b[33mutf-8\u001b[39m\u001b[33m\"\u001b[39m) \u001b[38;5;28;01mas\u001b[39;00m f:\n\u001b[32m     35\u001b[39m     f.write(texto)\n\u001b[32m---> \u001b[39m\u001b[32m42\u001b[39m \u001b[43mtime\u001b[49m\u001b[43m.\u001b[49m\u001b[43msleep\u001b[49m\u001b[43m(\u001b[49m\u001b[32;43m60\u001b[39;49m\u001b[43m)\u001b[49m\n\u001b[32m     44\u001b[39m AU.press(\u001b[33m\"\u001b[39m\u001b[33menter\u001b[39m\u001b[33m\"\u001b[39m)\n\u001b[32m     45\u001b[39m \u001b[38;5;66;03m# Esperar un poco antes de escribir el siguiente\u001b[39;00m\n",
      "\u001b[31mKeyboardInterrupt\u001b[39m: "
     ]
    }
   ],
   "source": [
    "for producto in inventario:\n",
    "    codigo = producto[\"codigo_barras\"]\n",
    "    print(\"Escribiendo:\", codigo)\n",
    "    # Mover el mouse y hacer clic\n",
    "    time.sleep(1)\n",
    "    AU.moveTo(220, 516, duration=1)\n",
    "    AU.click()\n",
    "    time.sleep(2)\n",
    " \n",
    "    AU.typewrite(codigo, interval=0.05)\n",
    "    AU.moveTo(100, 538, duration=1)\n",
    "    AU.click()\n",
    "\n",
    "\n",
    "    AU.moveTo( 170, 705, duration=0.5)\n",
    "    AU.mouseDown(button='left') \n",
    "    AU.moveTo(648, 687, duration=0.5)\n",
    "\n",
    "    AU.moveTo( 571, 678, duration=1)\n",
    "    time.sleep(1)\n",
    "    AU.click()\n",
    "    AU.click()\n",
    "    time.sleep(1)\n",
    "\n",
    "    AU.hotkey(\"ctrl\", \"a\")\n",
    "    AU.hotkey(\"ctrl\", \"c\")\n",
    "    time.sleep(0.2)\n",
    "\n",
    "    # Leer lo copiado desde el portapapeles\n",
    "    texto = pyperclip.paste()\n",
    "\n",
    "    # Guardar en un archivo con el nombre del código\n",
    "    nombre_archivo = f\"{codigo}.txt\"\n",
    "    with open(nombre_archivo, \"w\", encoding=\"utf-8\") as f:\n",
    "        f.write(texto)\n",
    "\n",
    "     \n",
    "\n",
    "\n",
    "\n",
    "\n",
    "    time.sleep(60)\n",
    "\n",
    "    AU.press(\"enter\")\n",
    "    # Esperar un poco antes de escribir el siguiente\n",
    "    time.sleep(0.5)\n"
   ]
  },
  {
   "cell_type": "code",
   "execution_count": 17,
   "id": "0b188aca",
   "metadata": {},
   "outputs": [],
   "source": [
    "time.sleep(3)\n",
    "AU.moveTo(139, 516, duration=1)\n",
    "AU.click()\n",
    "AU.typewrite(codigo_barras, interval=0.05)"
   ]
  }
 ],
 "metadata": {
  "kernelspec": {
   "display_name": "Python 3",
   "language": "python",
   "name": "python3"
  },
  "language_info": {
   "codemirror_mode": {
    "name": "ipython",
    "version": 3
   },
   "file_extension": ".py",
   "mimetype": "text/x-python",
   "name": "python",
   "nbconvert_exporter": "python",
   "pygments_lexer": "ipython3",
   "version": "3.13.5"
  }
 },
 "nbformat": 4,
 "nbformat_minor": 5
}
